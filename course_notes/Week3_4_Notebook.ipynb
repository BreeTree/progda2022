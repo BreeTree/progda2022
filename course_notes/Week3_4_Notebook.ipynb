{
 "cells": [
  {
   "cell_type": "markdown",
   "id": "cbf5ee67",
   "metadata": {},
   "source": [
    "# Jupyter Notebook Trial to accompany teaching video"
   ]
  },
  {
   "cell_type": "code",
   "execution_count": 1,
   "id": "cfcd54da",
   "metadata": {},
   "outputs": [],
   "source": [
    "a = 2 + 2\n",
    "a = 165"
   ]
  },
  {
   "cell_type": "code",
   "execution_count": 2,
   "id": "5bec7d5a",
   "metadata": {},
   "outputs": [
    {
     "name": "stdout",
     "output_type": "stream",
     "text": [
      "165\n"
     ]
    }
   ],
   "source": [
    "print (a)\n"
   ]
  },
  {
   "cell_type": "markdown",
   "id": "3dd4bb1b",
   "metadata": {},
   "source": [
    "## Next part of lesson"
   ]
  },
  {
   "cell_type": "markdown",
   "id": "10829ea1",
   "metadata": {},
   "source": [
    "#### Lists\n",
    "- Week 1\n",
    "- Week 2 \n",
    "- Week 3\n",
    "- Week 4"
   ]
  },
  {
   "cell_type": "markdown",
   "id": "e09b86d6",
   "metadata": {},
   "source": [
    "### Plotting using matplotlib and numpy"
   ]
  },
  {
   "cell_type": "code",
   "execution_count": 1,
   "id": "ed5aab41",
   "metadata": {
    "scrolled": true
   },
   "outputs": [
    {
     "data": {
      "image/png": "[encoded data removed]",
      "text/plain": [
       "<Figure size 432x288 with 1 Axes>"
      ]
     },
     "metadata": {
      "needs_background": "light"
     },
     "output_type": "display_data"
    }
   ],
   "source": [
    "import numpy as np\n",
    "import matplotlib.pyplot as plt\n",
    "\n",
    "plt.plot([1,2,3,4,5],[1,4,9,16,25])\n",
    "plt.show()"
   ]
  },
  {
   "cell_type": "markdown",
   "id": "a1766da6",
   "metadata": {},
   "source": [
    "### Week 4 Generating random data (numpy) \n",
    "#### Numpy random number generator > simple random data\n",
    "https://numpy.org/doc/stable/reference/random/generator.html\n",
    "Use the random generator from Numpy to create an (2-d) array of random numbers."
   ]
  },
  {
   "cell_type": "code",
   "execution_count": 2,
   "id": "43e67c18",
   "metadata": {},
   "outputs": [],
   "source": [
    "import numpy as np"
   ]
  },
  {
   "cell_type": "code",
   "execution_count": 6,
   "id": "ad6a1d8f",
   "metadata": {},
   "outputs": [
    {
     "data": {
      "text/plain": [
       "array([[0.10942652, 0.43368605, 0.2569062 , 0.01021297, 0.81834342],\n",
       "       [0.87376612, 0.53326629, 0.55513105, 0.11990821, 0.75890014],\n",
       "       [0.79774851, 0.94105798, 0.81458668, 0.22048041, 0.62248083],\n",
       "       [0.01362225, 0.65007556, 0.011252  , 0.21021521, 0.99227617]])"
      ]
     },
     "execution_count": 6,
     "metadata": {},
     "output_type": "execute_result"
    }
   ],
   "source": [
    "rng = np.random.default_rng()\n",
    "#use first paramter to specify (Row, Column) of the 2darray\n",
    "rng.random((4,5)) # allows you to set the shape of the array i.e. 4 rows, 5 columns"
   ]
  },
  {
   "cell_type": "code",
   "execution_count": 7,
   "id": "c4fd1557",
   "metadata": {},
   "outputs": [],
   "source": [
    "rng = np.random.default_rng()\n",
    "#generate 10,000 numbers\n",
    "x = rng.random(10000)"
   ]
  },
  {
   "cell_type": "code",
   "execution_count": 8,
   "id": "e16ab1d0",
   "metadata": {},
   "outputs": [
    {
     "name": "stdout",
     "output_type": "stream",
     "text": [
      "[0.5279806  0.52693683 0.29454352 ... 0.34357857 0.96876701 0.56910429]\n"
     ]
    }
   ],
   "source": [
    "print(x)\n",
    "#a summary of the dataset is printed"
   ]
  },
  {
   "cell_type": "code",
   "execution_count": 10,
   "id": "f254ea2f",
   "metadata": {},
   "outputs": [
    {
     "data": {
      "image/png": "[encoded data removed]",
      "text/plain": [
       "<Figure size 432x288 with 1 Axes>"
      ]
     },
     "metadata": {
      "needs_background": "light"
     },
     "output_type": "display_data"
    }
   ],
   "source": [
    "import matplotlib.pyplot as plt\n",
    "#plot a histogram of the 10,000 numbers to check shape of the dataset\n",
    "plt.hist(x)\n",
    "plt.show()"
   ]
  },
  {
   "cell_type": "code",
   "execution_count": 11,
   "id": "ae4b51b7",
   "metadata": {},
   "outputs": [
    {
     "data": {
      "image/png": "[encoded data removed]",
      "text/plain": [
       "<Figure size 432x288 with 1 Axes>"
      ]
     },
     "metadata": {
      "needs_background": "light"
     },
     "output_type": "display_data"
    }
   ],
   "source": [
    "#Generate a data set to conform to a normal distribution\n",
    "y = np.random.normal(2,0.1,10000)\n",
    "plt.hist(y)\n",
    "plt.show()"
   ]
  },
  {
   "cell_type": "code",
   "execution_count": 5,
   "id": "cbadb9bf",
   "metadata": {},
   "outputs": [],
   "source": [
    "#create a seed to predict randomness / determine randomness \n",
    "#https://numpy.org/doc/stable/reference/random/generated/numpy.random.seed.html\n",
    "import numpy as np\n",
    "rng = np.random.default_rng(seed=42)\n",
    "z = rng.random((5,3))"
   ]
  },
  {
   "cell_type": "code",
   "execution_count": 4,
   "id": "dddad38b",
   "metadata": {},
   "outputs": [
    {
     "name": "stdout",
     "output_type": "stream",
     "text": [
      "[[0.77395605 0.43887844 0.85859792]\n",
      " [0.69736803 0.09417735 0.97562235]\n",
      " [0.7611397  0.78606431 0.12811363]\n",
      " [0.45038594 0.37079802 0.92676499]\n",
      " [0.64386512 0.82276161 0.4434142 ]]\n"
     ]
    }
   ],
   "source": [
    "print(z)"
   ]
  },
  {
   "cell_type": "code",
   "execution_count": null,
   "id": "a68062af",
   "metadata": {},
   "outputs": [],
   "source": []
  }
 ],
 "metadata": {
  "kernelspec": {
   "display_name": "Python 3 (ipykernel)",
   "language": "python",
   "name": "python3"
  },
  "language_info": {
   "codemirror_mode": {
    "name": "ipython",
    "version": 3
   },
   "file_extension": ".py",
   "mimetype": "text/x-python",
   "name": "python",
   "nbconvert_exporter": "python",
   "pygments_lexer": "ipython3",
   "version": "3.9.7"
  },
  "vscode": {
   "interpreter": {
    "hash": "d74c6ed75bb32bebb3013da60e116b384a80d116fd82f9ca092ad4756610ccc2"
   }
  }
 },
 "nbformat": 4,
 "nbformat_minor": 5
}
